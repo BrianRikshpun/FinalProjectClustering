{
  "cells": [
    {
      "cell_type": "code",
      "execution_count": 56,
      "metadata": {
        "id": "bXd2E6VUGP5C"
      },
      "outputs": [],
      "source": [
        "import pandas as pd\n",
        "import matplotlib.pyplot as plt\n",
        "import itertools\n",
        "import torch\n",
        "import torch.nn as nn\n",
        "import torch.optim as optim\n",
        "import numpy as np\n",
        "import matplotlib.pyplot as plt\n",
        "from torch.utils.data import Dataset, DataLoader,TensorDataset"
      ]
    },
    {
      "cell_type": "markdown",
      "source": [
        "# reading the data\n",
        " "
      ],
      "metadata": {
        "id": "DH9lHH6O1Dzo"
      }
    },
    {
      "cell_type": "code",
      "execution_count": 2,
      "metadata": {
        "colab": {
          "base_uri": "https://localhost:8080/"
        },
        "id": "j3WzLZK3BjgU",
        "outputId": "4a7f5717-dead-4146-f92c-935a43ee9512"
      },
      "outputs": [
        {
          "output_type": "stream",
          "name": "stdout",
          "text": [
            "Mounted at /content/gdrive\n"
          ]
        }
      ],
      "source": [
        "from google.colab import drive\n",
        "drive.mount('/content/gdrive')"
      ]
    },
    {
      "cell_type": "code",
      "execution_count": 3,
      "metadata": {
        "colab": {
          "base_uri": "https://localhost:8080/"
        },
        "id": "4zNKC57rBkpC",
        "outputId": "cfe6df2c-9ec9-46ec-a753-953e1091d514"
      },
      "outputs": [
        {
          "output_type": "stream",
          "name": "stdout",
          "text": [
            "Archive:  /content/gdrive/MyDrive/MSC - intelligent systems/Final Project/Data/FINAL AFTER PREPROCESS/final_codon_dataset.csv.zip\n",
            "  inflating: final_codon_dataset.csv  \n"
          ]
        }
      ],
      "source": [
        "!unzip '/content/gdrive/MyDrive/MSC - intelligent systems/Final Project/Data/FINAL AFTER PREPROCESS/final_codon_dataset.csv.zip'"
      ]
    },
    {
      "cell_type": "code",
      "execution_count": 72,
      "metadata": {
        "id": "nntYblRjGKWB"
      },
      "outputs": [],
      "source": [
        "data = pd.read_csv('final_codon_dataset.csv')"
      ]
    },
    {
      "cell_type": "code",
      "execution_count": 11,
      "metadata": {
        "colab": {
          "base_uri": "https://localhost:8080/"
        },
        "id": "HDELotzWHxbM",
        "outputId": "bd5ec52b-76cf-45e0-d966-b78d2280af74"
      },
      "outputs": [
        {
          "output_type": "execute_result",
          "data": {
            "text/plain": [
              "(472336, 100)"
            ]
          },
          "metadata": {},
          "execution_count": 11
        }
      ],
      "source": [
        "data.shape"
      ]
    },
    {
      "cell_type": "code",
      "execution_count": 73,
      "metadata": {
        "colab": {
          "base_uri": "https://localhost:8080/"
        },
        "id": "F_L7rULIGGKX",
        "outputId": "25684121-616d-4655-9a93-e4f337fa8f96"
      },
      "outputs": [
        {
          "output_type": "stream",
          "name": "stdout",
          "text": [
            "<class 'pandas.core.frame.DataFrame'>\n",
            "RangeIndex: 472336 entries, 0 to 472335\n",
            "Data columns (total 91 columns):\n",
            " #   Column    Non-Null Count   Dtype  \n",
            "---  ------    --------------   -----  \n",
            " 0   GC%       472336 non-null  float64\n",
            " 1   GC1%      472336 non-null  float64\n",
            " 2   GC2%      472336 non-null  float64\n",
            " 3   GC3%      472336 non-null  float64\n",
            " 4   %A        472336 non-null  float64\n",
            " 5   %G        472336 non-null  float64\n",
            " 6   %C        472336 non-null  float64\n",
            " 7   %T        472336 non-null  float64\n",
            " 8   %TT       472336 non-null  float64\n",
            " 9   %TG       472336 non-null  float64\n",
            " 10  %TC       472336 non-null  float64\n",
            " 11  %TA       472336 non-null  float64\n",
            " 12  %GT       472336 non-null  float64\n",
            " 13  %GG       472336 non-null  float64\n",
            " 14  %GC       472336 non-null  float64\n",
            " 15  %GA       472336 non-null  float64\n",
            " 16  %CT       472336 non-null  float64\n",
            " 17  %CG       472336 non-null  float64\n",
            " 18  %CC       472336 non-null  float64\n",
            " 19  %CA       472336 non-null  float64\n",
            " 20  %AT       472336 non-null  float64\n",
            " 21  %AG       472336 non-null  float64\n",
            " 22  %AC       472336 non-null  float64\n",
            " 23  %AA       472336 non-null  float64\n",
            " 24  %TTT      472336 non-null  float64\n",
            " 25  %TTG      472336 non-null  float64\n",
            " 26  %TTC      472336 non-null  float64\n",
            " 27  %TTA      472336 non-null  float64\n",
            " 28  %TGT      472336 non-null  float64\n",
            " 29  %TGG      472336 non-null  float64\n",
            " 30  %TGC      472336 non-null  float64\n",
            " 31  %TGA      472336 non-null  float64\n",
            " 32  %TCT      472336 non-null  float64\n",
            " 33  %TCG      472336 non-null  float64\n",
            " 34  %TCC      472336 non-null  float64\n",
            " 35  %TCA      472336 non-null  float64\n",
            " 36  %TAT      472336 non-null  float64\n",
            " 37  %TAG      472336 non-null  float64\n",
            " 38  %TAC      472336 non-null  float64\n",
            " 39  %TAA      472336 non-null  float64\n",
            " 40  %GTT      472336 non-null  float64\n",
            " 41  %GTG      472336 non-null  float64\n",
            " 42  %GTC      472336 non-null  float64\n",
            " 43  %GTA      472336 non-null  float64\n",
            " 44  %GGT      472336 non-null  float64\n",
            " 45  %GGG      472336 non-null  float64\n",
            " 46  %GGC      472336 non-null  float64\n",
            " 47  %GGA      472336 non-null  float64\n",
            " 48  %GCT      472336 non-null  float64\n",
            " 49  %GCG      472336 non-null  float64\n",
            " 50  %GCC      472336 non-null  float64\n",
            " 51  %GCA      472336 non-null  float64\n",
            " 52  %GAT      472336 non-null  float64\n",
            " 53  %GAG      472336 non-null  float64\n",
            " 54  %GAC      472336 non-null  float64\n",
            " 55  %GAA      472336 non-null  float64\n",
            " 56  %CTT      472336 non-null  float64\n",
            " 57  %CTG      472336 non-null  float64\n",
            " 58  %CTC      472336 non-null  float64\n",
            " 59  %CTA      472336 non-null  float64\n",
            " 60  %CGT      472336 non-null  float64\n",
            " 61  %CGG      472336 non-null  float64\n",
            " 62  %CGC      472336 non-null  float64\n",
            " 63  %CGA      472336 non-null  float64\n",
            " 64  %CCT      472336 non-null  float64\n",
            " 65  %CCG      472336 non-null  float64\n",
            " 66  %CCC      472336 non-null  float64\n",
            " 67  %CCA      472336 non-null  float64\n",
            " 68  %CAT      472336 non-null  float64\n",
            " 69  %CAG      472336 non-null  float64\n",
            " 70  %CAC      472336 non-null  float64\n",
            " 71  %CAA      472336 non-null  float64\n",
            " 72  %ATT      472336 non-null  float64\n",
            " 73  %ATG      472336 non-null  float64\n",
            " 74  %ATC      472336 non-null  float64\n",
            " 75  %ATA      472336 non-null  float64\n",
            " 76  %AGT      472336 non-null  float64\n",
            " 77  %AGG      472336 non-null  float64\n",
            " 78  %AGC      472336 non-null  float64\n",
            " 79  %AGA      472336 non-null  float64\n",
            " 80  %ACT      472336 non-null  float64\n",
            " 81  %ACG      472336 non-null  float64\n",
            " 82  %ACC      472336 non-null  float64\n",
            " 83  %ACA      472336 non-null  float64\n",
            " 84  %AAT      472336 non-null  float64\n",
            " 85  %AAG      472336 non-null  float64\n",
            " 86  %AAC      472336 non-null  float64\n",
            " 87  %AAA      472336 non-null  float64\n",
            " 88  entropy1  472336 non-null  float64\n",
            " 89  entropy2  472336 non-null  float64\n",
            " 90  entropy3  472336 non-null  float64\n",
            "dtypes: float64(91)\n",
            "memory usage: 327.9 MB\n"
          ]
        },
        {
          "output_type": "execute_result",
          "data": {
            "text/plain": [
              "(472336, 91)"
            ]
          },
          "metadata": {},
          "execution_count": 73
        }
      ],
      "source": [
        "data.pop('Unnamed: 0')\n",
        "data.pop('Unnamed: 0.1')\n",
        "data = data[list(data.columns)[8:]]\n",
        "data.info()\n",
        "data.shape\n"
      ]
    },
    {
      "cell_type": "markdown",
      "source": [
        "# VAE encoder\n"
      ],
      "metadata": {
        "id": "4w8DmZOO1MYy"
      }
    },
    {
      "cell_type": "code",
      "source": [
        "class Encoder(nn.Module):\n",
        "    def __init__(self, latent_dim):\n",
        "        super().__init__()\n",
        "        self.fc1 = nn.Linear(91, 46)\n",
        "        self.fc2 = nn.Linear(46, 23)\n",
        "        self.fc3_mean = nn.Linear(23, latent_dim)\n",
        "        self.fc3_logvar = nn.Linear(23, latent_dim)\n",
        "\n",
        "    def forward(self, x):\n",
        "        x = torch.relu(self.fc1(x))\n",
        "        x = torch.relu(self.fc2(x))\n",
        "        x = x.view(x.size(0), -1)\n",
        "        mean = self.fc3_mean(x)\n",
        "        logvar = self.fc3_logvar(x)\n",
        "        return mean, logvar\n",
        "\n",
        "\n",
        "class Decoder(nn.Module):\n",
        "    def __init__(self, latent_dim):\n",
        "        super().__init__()\n",
        "        self.fc1 = nn.Linear(latent_dim, 23)\n",
        "        self.fc2 = nn.Linear(23, 46)\n",
        "        self.fc3 = nn.Linear(46, 91)\n",
        "\n",
        "    def forward(self, x):\n",
        "        x = torch.relu(self.fc1(x))\n",
        "        x = torch.relu(self.fc2(x))\n",
        "        x = self.fc3(x)\n",
        "        return x.view(x.size(0), -1)\n",
        "\n",
        "\n",
        "class VAE(nn.Module):\n",
        "    def __init__(self, latent_dim):\n",
        "        super().__init__()\n",
        "        self.encoder = Encoder(latent_dim)\n",
        "        self.decoder = Decoder(latent_dim)\n",
        "\n",
        "    def forward(self, x):\n",
        "        mean, logvar = self.encoder(x)\n",
        "        std = torch.exp(0.5 * logvar)\n",
        "        eps = torch.randn_like(std)\n",
        "        z = eps * std + mean\n",
        "        recon_x = self.decoder(z)\n",
        "        return recon_x, mean, logvar\n",
        "\n",
        "\n",
        "def loss_function(recon_x, x, mean, logvar):\n",
        "    mse_loss = nn.MSELoss(reduction='sum')\n",
        "    mse = mse_loss(recon_x, x)\n",
        "    kl_loss = -0.5 * torch.sum(1 + logvar - mean.pow(2) - logvar.exp())\n",
        "    return mse + kl_loss\n"
      ],
      "metadata": {
        "id": "s75qdZLWShBT"
      },
      "execution_count": 74,
      "outputs": []
    },
    {
      "cell_type": "markdown",
      "source": [
        "# Data loading and optimizing"
      ],
      "metadata": {
        "id": "G__FcYpVUQAJ"
      }
    },
    {
      "cell_type": "code",
      "source": [
        "device = torch.device('cuda')\n",
        "\n",
        "tensor = torch.tensor(data.values).float()\n",
        "\n",
        "# Create a TensorDataset from the tensor\n",
        "dataset = TensorDataset(tensor)\n",
        "\n",
        "# Create a DataLoader from the dataset\n",
        "batch_size = 64\n",
        "loader = DataLoader(dataset, batch_size=batch_size, shuffle=True, drop_last = True)"
      ],
      "metadata": {
        "id": "dDHcUsPgSvIz"
      },
      "execution_count": 84,
      "outputs": []
    },
    {
      "cell_type": "code",
      "source": [
        "data.shape"
      ],
      "metadata": {
        "colab": {
          "base_uri": "https://localhost:8080/"
        },
        "id": "B1IxY467aYrf",
        "outputId": "14a490bc-98cb-4212-e6da-5a789a62f0ac"
      },
      "execution_count": 80,
      "outputs": [
        {
          "output_type": "execute_result",
          "data": {
            "text/plain": [
              "(472336, 91)"
            ]
          },
          "metadata": {},
          "execution_count": 80
        }
      ]
    },
    {
      "cell_type": "code",
      "source": [
        "latent_dim = 10\n",
        "vae = VAE(latent_dim).to(device)\n",
        "optimizer = optim.Adam(vae.parameters(), lr=1e-3)"
      ],
      "metadata": {
        "id": "FfQ_o5E3UCBi"
      },
      "execution_count": 78,
      "outputs": []
    },
    {
      "cell_type": "code",
      "source": [
        "num_epochs = 50\n",
        "for epoch in range(num_epochs):\n",
        "  total_loss = 0\n",
        "\n",
        "  for batch_idx, data1 in enumerate(loader):\n",
        "    data1 = [feature.to(device) for feature in data1]\n",
        "    optimizer.zero_grad()\n",
        "    recon_batch, mu, logvar = vae(torch.cat(data1, dim=1))\n",
        "    loss = loss_function(recon_batch, torch.cat(data1, dim=1), mu, logvar)\n",
        "    loss.backward()\n",
        "    total_loss += loss.item()\n",
        "    optimizer.step()\n",
        "    avg_loss = total_loss / len(loader.dataset)\n",
        "  print('Epoch [{}/{}], Loss: {:.4f}'.format(epoch+1, num_epochs, avg_loss))"
      ],
      "metadata": {
        "id": "h9zeC3tHW1A-"
      },
      "execution_count": null,
      "outputs": []
    }
  ],
  "metadata": {
    "colab": {
      "provenance": [],
      "gpuType": "T4"
    },
    "gpuClass": "standard",
    "kernelspec": {
      "display_name": "Python 3",
      "name": "python3"
    },
    "language_info": {
      "name": "python"
    },
    "accelerator": "GPU"
  },
  "nbformat": 4,
  "nbformat_minor": 0
}