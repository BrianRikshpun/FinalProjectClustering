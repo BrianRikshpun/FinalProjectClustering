{
  "nbformat": 4,
  "nbformat_minor": 0,
  "metadata": {
    "colab": {
      "provenance": [],
      "authorship_tag": "ABX9TyPgLb4p54wqRH3rlnB9gcMi",
      "include_colab_link": true
    },
    "kernelspec": {
      "name": "python3",
      "display_name": "Python 3"
    },
    "language_info": {
      "name": "python"
    }
  },
  "cells": [
    {
      "cell_type": "markdown",
      "metadata": {
        "id": "view-in-github",
        "colab_type": "text"
      },
      "source": [
        "<a href=\"https://colab.research.google.com/github/BrianRikshpun/FinalProjectClustering/blob/master/Taxonomy_EDA.ipynb\" target=\"_parent\"><img src=\"https://colab.research.google.com/assets/colab-badge.svg\" alt=\"Open In Colab\"/></a>"
      ]
    },
    {
      "cell_type": "code",
      "source": [
        "import graphviz as gv\n",
        "import pandas as pd\n",
        "import matplotlib.pyplot as plt\n"
      ],
      "metadata": {
        "id": "bXd2E6VUGP5C"
      },
      "execution_count": 13,
      "outputs": []
    },
    {
      "cell_type": "code",
      "source": [
        "from google.colab import drive\n",
        "drive.mount('/content/gdrive')"
      ],
      "metadata": {
        "colab": {
          "base_uri": "https://localhost:8080/"
        },
        "id": "j3WzLZK3BjgU",
        "outputId": "2dd8208b-f52b-4e8c-d9f6-f7550005067a"
      },
      "execution_count": 2,
      "outputs": [
        {
          "output_type": "stream",
          "name": "stdout",
          "text": [
            "Mounted at /content/gdrive\n"
          ]
        }
      ]
    },
    {
      "cell_type": "code",
      "source": [
        "!unzip '/content/gdrive/MyDrive/MSC - intelligent systems/Final Project/Data/FINAL AFTER PREPROCESS/codon_taxonomy.zip'"
      ],
      "metadata": {
        "colab": {
          "base_uri": "https://localhost:8080/"
        },
        "id": "4zNKC57rBkpC",
        "outputId": "28a45a06-5f5f-477f-e780-1611eae4d261"
      },
      "execution_count": 7,
      "outputs": [
        {
          "output_type": "stream",
          "name": "stdout",
          "text": [
            "Archive:  /content/gdrive/MyDrive/MSC - intelligent systems/Final Project/Data/FINAL AFTER PREPROCESS/codon_taxonomy.zip\n",
            "  inflating: taxonomy.csv            \n"
          ]
        }
      ]
    },
    {
      "cell_type": "code",
      "source": [
        "data = pd.read_csv('taxonomy.csv')"
      ],
      "metadata": {
        "colab": {
          "base_uri": "https://localhost:8080/"
        },
        "id": "nntYblRjGKWB",
        "outputId": "e290db5e-ef20-4540-be99-cc4a455da808"
      },
      "execution_count": 8,
      "outputs": [
        {
          "output_type": "stream",
          "name": "stderr",
          "text": [
            "/usr/local/lib/python3.8/dist-packages/IPython/core/interactiveshell.py:3326: DtypeWarning: Columns (9) have mixed types.Specify dtype option on import or set low_memory=False.\n",
            "  exec(code_obj, self.user_global_ns, self.user_ns)\n"
          ]
        }
      ]
    },
    {
      "cell_type": "code",
      "source": [
        "data.shape"
      ],
      "metadata": {
        "colab": {
          "base_uri": "https://localhost:8080/"
        },
        "id": "HDELotzWHxbM",
        "outputId": "1c9f2fef-b398-485f-c136-8d16f98097c7"
      },
      "execution_count": 9,
      "outputs": [
        {
          "output_type": "execute_result",
          "data": {
            "text/plain": [
              "(471511, 11)"
            ]
          },
          "metadata": {},
          "execution_count": 9
        }
      ]
    },
    {
      "cell_type": "code",
      "source": [
        "data.pop('Unnamed: 0')\n",
        "data.info()"
      ],
      "metadata": {
        "colab": {
          "base_uri": "https://localhost:8080/"
        },
        "id": "F_L7rULIGGKX",
        "outputId": "502d7d61-9b5d-4bdd-f206-759cc8c884ca"
      },
      "execution_count": 12,
      "outputs": [
        {
          "output_type": "stream",
          "name": "stdout",
          "text": [
            "<class 'pandas.core.frame.DataFrame'>\n",
            "RangeIndex: 471511 entries, 0 to 471510\n",
            "Data columns (total 10 columns):\n",
            " #   Column   Non-Null Count   Dtype \n",
            "---  ------   --------------   ----- \n",
            " 0   Taxid    471511 non-null  int64 \n",
            " 1   species  471511 non-null  object\n",
            " 2   rank 2   184963 non-null  object\n",
            " 3   rank 3   451470 non-null  object\n",
            " 4   rank 4   455949 non-null  object\n",
            " 5   rank 5   449347 non-null  object\n",
            " 6   rank 6   456848 non-null  object\n",
            " 7   rank 7   464412 non-null  object\n",
            " 8   rank 8   388073 non-null  object\n",
            " 9   rank 9   471402 non-null  object\n",
            "dtypes: int64(1), object(9)\n",
            "memory usage: 36.0+ MB\n"
          ]
        }
      ]
    },
    {
      "cell_type": "code",
      "source": [
        "for col in data.columns[1:]:\n",
        "  data[col] = data[col].astype(str)"
      ],
      "metadata": {
        "id": "EbclkyPuJORF"
      },
      "execution_count": 20,
      "outputs": []
    },
    {
      "cell_type": "code",
      "source": [
        "def plotTaxonomyConnectionsAndBars(data, r1, r2):\n",
        "\n",
        "\n",
        "    for j in data[r1].unique():\n",
        "\n",
        "        x = []\n",
        "        y = []\n",
        "        d = data.copy()\n",
        "        d = d[d[r1] == j]\n",
        "\n",
        "        dot.node(j, shape='ellipse', style='filled', color='lightblue')\n",
        "\n",
        "        for k in d[r2].unique():\n",
        "            \n",
        "            d2 = d.copy()\n",
        "            d2 = d2[d2[r2] == k]\n",
        "            x.append(k)\n",
        "            y.append(len(d2))\n",
        "            \n",
        "            dot.node(k, shape='ellipse', style='filled', color='skyblue')\n",
        "            dot.edge(j,k)\n",
        "    \n",
        "    \n",
        "\n",
        "\n"
      ],
      "metadata": {
        "id": "UTYz7c3UGPW6"
      },
      "execution_count": 23,
      "outputs": []
    },
    {
      "cell_type": "code",
      "source": [
        "len(data)"
      ],
      "metadata": {
        "colab": {
          "base_uri": "https://localhost:8080/"
        },
        "id": "6Ntc9ePuK_as",
        "outputId": "1a725340-50c0-4e34-b8db-ca12b8287cd4"
      },
      "execution_count": 34,
      "outputs": [
        {
          "output_type": "execute_result",
          "data": {
            "text/plain": [
              "471511"
            ]
          },
          "metadata": {},
          "execution_count": 34
        }
      ]
    },
    {
      "cell_type": "code",
      "source": [
        "arr = [data.columns[-i] for i in range(1,len(data.columns))]"
      ],
      "metadata": {
        "id": "jjBzj8b1KaXT"
      },
      "execution_count": 37,
      "outputs": []
    },
    {
      "cell_type": "code",
      "source": [
        "arr"
      ],
      "metadata": {
        "colab": {
          "base_uri": "https://localhost:8080/"
        },
        "id": "Z-moPESVKfCA",
        "outputId": "6057e2e0-32e0-49a6-94ee-0814321a8a8b"
      },
      "execution_count": 38,
      "outputs": [
        {
          "output_type": "execute_result",
          "data": {
            "text/plain": [
              "['rank 9',\n",
              " 'rank 8',\n",
              " 'rank 7',\n",
              " 'rank 6',\n",
              " 'rank 5',\n",
              " 'rank 4',\n",
              " 'rank 3',\n",
              " 'rank 2',\n",
              " 'species']"
            ]
          },
          "metadata": {},
          "execution_count": 38
        }
      ]
    },
    {
      "cell_type": "code",
      "execution_count": null,
      "metadata": {
        "id": "o-B9fBUmEJvp"
      },
      "outputs": [],
      "source": [
        "# Create a new graph\n",
        "dot = gv.Graph(format='png',engine='dot')\n",
        "\n",
        "for i in range(len(arr) - 1):\n",
        "\n",
        "  plotTaxonomyConnectionsAndBars(data, arr[i] , arr[i + 1])\n",
        "\n",
        "dot.render('taxonomy',view=True)"
      ]
    },
    {
      "cell_type": "code",
      "source": [],
      "metadata": {
        "id": "iH1I8k4YJ3O3"
      },
      "execution_count": null,
      "outputs": []
    }
  ]
}